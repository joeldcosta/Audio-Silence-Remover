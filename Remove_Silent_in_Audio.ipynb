{
  "nbformat": 4,
  "nbformat_minor": 0,
  "metadata": {
    "colab": {
      "provenance": [],
      "authorship_tag": "ABX9TyOlIwmgFWo55IV63bLKKDgz",
      "include_colab_link": true
    },
    "kernelspec": {
      "name": "python3",
      "display_name": "Python 3"
    },
    "language_info": {
      "name": "python"
    }
  },
  "cells": [
    {
      "cell_type": "markdown",
      "metadata": {
        "id": "view-in-github",
        "colab_type": "text"
      },
      "source": [
        "<a href=\"https://colab.research.google.com/github/joeldcosta/Audio-Silence-Remover/blob/main/Remove_Silent_in_Audio.ipynb\" target=\"_parent\"><img src=\"https://colab.research.google.com/assets/colab-badge.svg\" alt=\"Open In Colab\"/></a>"
      ]
    },
    {
      "cell_type": "markdown",
      "source": [
        "#Remove Audio Silence In Python"
      ],
      "metadata": {
        "id": "5gjffpfOjSPj"
      }
    },
    {
      "cell_type": "code",
      "execution_count": null,
      "metadata": {
        "cellView": "form",
        "id": "aBWo9bsvgGRl"
      },
      "outputs": [],
      "source": [
        "#@markdown Install PIP and SUDO and install\n",
        "!pip install webrtcvad==2.0.10 wave pydub simpleaudio numpy matplotlib\n",
        "!sudo apt-get install ffmpeg \n",
        "!sudo apt-get install -y python-pydub"
      ]
    },
    {
      "cell_type": "code",
      "source": [
        "#@markdown #Upload Your Audio\n",
        "from google.colab import files\n",
        "uploaded = files.upload()"
      ],
      "metadata": {
        "cellView": "form",
        "id": "NhLKSieChHWU"
      },
      "execution_count": null,
      "outputs": []
    },
    {
      "cell_type": "code",
      "source": [
        "#@markdown Convert MP3 to WAV Format 👇Copy Paste File Name here\n",
        "# import required modules\n",
        "from os import path\n",
        "from pydub import AudioSegment\n",
        "\n",
        "# assign files\n",
        "input_file = \"\" #@param {type:\"string\"}\n",
        "output_file = \"result.wav\" \n",
        "\n",
        "# convert mp3 file to wav file\n",
        "sound = AudioSegment.from_mp3(input_file)\n",
        "sound.export(output_file, format=\"wav\")\n"
      ],
      "metadata": {
        "cellView": "form",
        "id": "xodqqCOUh0ZL"
      },
      "execution_count": null,
      "outputs": []
    },
    {
      "cell_type": "code",
      "source": [
        "#@markdown Download Silence Remover File\n",
        "!wget https://raw.githubusercontent.com/joeldcosta/Audio-Silence-Remover/main/silenceremove.py"
      ],
      "metadata": {
        "cellView": "form",
        "id": "lgKejIlTz-0H"
      },
      "execution_count": null,
      "outputs": []
    },
    {
      "cell_type": "code",
      "source": [
        "#@markdown Remove Silent\n",
        "!python \"silenceremove.py\" 3 \"result.wav\""
      ],
      "metadata": {
        "cellView": "form",
        "id": "60NdItF1gS4K"
      },
      "execution_count": null,
      "outputs": []
    },
    {
      "cell_type": "code",
      "source": [
        "#@markdown Convert WAV to MP3\n",
        "from pydub import AudioSegment\n",
        "\n",
        "AudioSegment.from_wav(\"Non-Silenced-Audio.wav\").export(\"FINAL.mp3\", format=\"mp3\")"
      ],
      "metadata": {
        "cellView": "form",
        "id": "KKLbDbMqiIJS"
      },
      "execution_count": null,
      "outputs": []
    },
    {
      "cell_type": "code",
      "source": [
        "#@markdown Download FINAL.mp3\n",
        "from google.colab import files\n",
        "files.download('FINAL.mp3')"
      ],
      "metadata": {
        "cellView": "form",
        "id": "alfHiQyYmATy"
      },
      "execution_count": null,
      "outputs": []
    },
    {
      "cell_type": "code",
      "source": [
        "#@markdown Clear Files\n",
        "!rm -f \"Non-Silenced-Audio.wav\"\n",
        "!rm -f \"result.wav\"\n",
        "!rm -f \"FINAL.mp3\""
      ],
      "metadata": {
        "cellView": "form",
        "id": "JU4XuhiF2TJ2"
      },
      "execution_count": 74,
      "outputs": []
    }
  ]
}